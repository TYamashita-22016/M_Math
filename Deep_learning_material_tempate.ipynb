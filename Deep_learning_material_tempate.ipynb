{
  "cells": [
    {
      "cell_type": "markdown",
      "metadata": {
        "id": "view-in-github",
        "colab_type": "text"
      },
      "source": [
        "<a href=\"https://colab.research.google.com/github/TYamashita-22016/M_Math/blob/main/Deep_learning_material_tempate.ipynb\" target=\"_parent\"><img src=\"https://colab.research.google.com/assets/colab-badge.svg\" alt=\"Open In Colab\"/></a>"
      ]
    },
    {
      "cell_type": "markdown",
      "source": [
        "# DNN 教材"
      ],
      "metadata": {
        "id": "xaHVTzJ4G9Qb"
      }
    },
    {
      "cell_type": "markdown",
      "metadata": {
        "id": "JDFBVx0PvTy2"
      },
      "source": [
        "### Perceptron"
      ]
    },
    {
      "cell_type": "markdown",
      "metadata": {
        "id": "W6OWATZWvTy3"
      },
      "source": [
        "実際にPerceptronを使って、Irisの花の種類がIris Setosaかそれ以外かを判別するモデルを作る。\n",
        "\n",
        "__Dataset__ \n",
        "\n",
        "50個のIrisの花に関するレコードがある。がく片の幅、がく片の長さ、花弁の長さ、花弁の幅、Irisの花の種類が一つのレコードに含まれている。花の種類は、Iris Setosa、Iris VersicolourとIris Virginicaのどれか。\n",
        "\n",
        "__Goal__\n",
        "\n",
        "Irisのがく片と花弁の特徴を基に、IrisがIris Setosaかそれ以外かを判別するモデルを作る"
      ]
    },
    {
      "cell_type": "code",
      "execution_count": 2,
      "metadata": {
        "id": "OVZXi93mvTy3",
        "colab": {
          "base_uri": "https://localhost:8080/"
        },
        "outputId": "661398b2-fef5-4ce8-f467-504a0ba23e6e"
      },
      "outputs": [
        {
          "output_type": "stream",
          "name": "stdout",
          "text": [
            "Accuracy: 1.0\n"
          ]
        }
      ],
      "source": [
        "import numpy as np \n",
        "from sklearn.datasets import load_iris \n",
        "from sklearn.linear_model import Perceptron\n",
        "from sklearn.model_selection import train_test_split\n",
        "from sklearn.metrics import accuracy_score\n",
        "\n",
        "#データセットをロード\n",
        "iris=load_iris()\n",
        "#predictor と　target に分ける\n",
        "X=iris.data          \n",
        "#Iris Setosaが１の値をとり、それ以外は０\n",
        "Y=(iris.target==0).astype(int)\n",
        "#データセットのシャッフルをして、トレーニング用とテスト用のデータに分ける\n",
        "#モデルの評価をしっかりやりたい時は、cross validationを実行、さらにハイパーパラメータの最適化を行う\n",
        "train_X, test_X, train_Y, test_Y=train_test_split(X,Y,test_size=0.3, random_state=42, shuffle=True)\n",
        "\n",
        "#トレーニング\n",
        "perc_clf=Perceptron()\n",
        "perc_clf.fit(train_X, train_Y)\n",
        "#テスト\n",
        "predictions=perc_clf.predict(test_X)\n",
        "\n",
        "#Accuracyを計算\n",
        "print(\"Accuracy: \" +str(accuracy_score(test_Y, predictions)))"
      ]
    },
    {
      "cell_type": "markdown",
      "metadata": {
        "id": "NUDPWu9CvTy5"
      },
      "source": [
        "### Multi Layer Perceptron using Scikit learn"
      ]
    },
    {
      "cell_type": "markdown",
      "metadata": {
        "id": "F6A-qF2rvTy5"
      },
      "source": [
        "Multi Layer Perceptronを使って、3つのIrisの種類を判別するモデルを作る\n",
        "\n",
        "__Dataset__\n",
        "\n",
        "前回と同じ\n",
        "\n",
        "__Goal__\n",
        "\n",
        "Irisのがく片と花弁の特徴を基に、Irisの花がIris Setosa、Iris Versicolour、それともIris Virginicaかを判別する。\n",
        "\n",
        "__Note__\n",
        "\n",
        "\n",
        "*   一つのクラスの判別に一つのoutput nodeが必要なので、3つのoutput nodeが必要。ただコードを書く際にこの指定は不要。\n",
        "\n",
        "*   一つ一つのアウトプットノードはそのクラスに当てはまる確率を計算して、出力。\n",
        "\n",
        "\n",
        "\n",
        "*   一つのレコードに対して一つのクラスが割り当てられているので、その三つのoutput node から出てくる確率の合計は１になる必要がある。\n",
        "\n"
      ]
    },
    {
      "cell_type": "code",
      "execution_count": 3,
      "metadata": {
        "id": "fqXSwyakvTy5",
        "colab": {
          "base_uri": "https://localhost:8080/"
        },
        "outputId": "2c53b276-7bf9-46b1-935d-1b784c28300e"
      },
      "outputs": [
        {
          "output_type": "stream",
          "name": "stdout",
          "text": [
            "Accuracy: 0.9777777777777777\n"
          ]
        }
      ],
      "source": [
        "from sklearn.datasets import load_iris\n",
        "from sklearn.neural_network import MLPClassifier\n",
        "from sklearn.model_selection import train_test_split\n",
        "from sklearn.metrics import accuracy_score\n",
        "#データセットをロード\n",
        "iris = load_iris()\n",
        "#predictor と　target に分ける\n",
        "X=iris.data\n",
        "Y=iris.target\n",
        "\n",
        "#データセットのシャッフルをして、トレーニング用とテスト用のデータに分ける\n",
        "#モデルの評価をしっかりやりたい時は、validationのデータセットを作るのが良い。\n",
        "train_X, test_x, train_Y, test_Y=train_test_split(X,Y,test_size=0.3, random_state=42, shuffle=True)\n",
        "\n",
        "#二つのHidden Layer を追加、それぞれ10個のニューロンを持つ\n",
        "#mlp_clsf=MLPClassifier(10,10),activation='relu',learning_rate='constant',learning_rate_init=0.001,max_iter=1000,random_state=42)\n",
        "mlp_clsf =MLPClassifier((10,10),activation ='relu',learning_rate='constant',learning_rate_init=0.001,max_iter=1000,random_state=42)\n",
        "mlp_clsf.fit(train_X, train_Y)\n",
        "predictions=mlp_clsf.predict(test_X)\n",
        "print(\"Accuracy: \" +str(accuracy_score(test_Y, predictions)))"
      ]
    },
    {
      "cell_type": "code",
      "execution_count": 4,
      "metadata": {
        "id": "XfyE9k6SvTy6",
        "colab": {
          "base_uri": "https://localhost:8080/"
        },
        "outputId": "97162bbd-65f6-4a4b-ab37-91f79056ce7f"
      },
      "outputs": [
        {
          "output_type": "execute_result",
          "data": {
            "text/plain": [
              "1.0"
            ]
          },
          "metadata": {},
          "execution_count": 4
        }
      ],
      "source": [
        "#確率の合計が１かを確認\n",
        "mlp_clsf.predict_proba(test_X[0].reshape(1,-1)).sum()\n"
      ]
    },
    {
      "cell_type": "markdown",
      "metadata": {
        "id": "AQI7-M9KvTy6"
      },
      "source": [
        "### Activation Function "
      ]
    },
    {
      "cell_type": "markdown",
      "source": [
        "このMLPにSoftmaxがactivation functionとして使われている"
      ],
      "metadata": {
        "id": "k7_W11IYID2p"
      }
    },
    {
      "cell_type": "code",
      "execution_count": 5,
      "metadata": {
        "id": "ffl1_qbxvTy7",
        "colab": {
          "base_uri": "https://localhost:8080/",
          "height": 36
        },
        "outputId": "a81d1171-4c28-440c-e924-27f68fc1aea5"
      },
      "outputs": [
        {
          "output_type": "execute_result",
          "data": {
            "text/plain": [
              "'softmax'"
            ],
            "application/vnd.google.colaboratory.intrinsic+json": {
              "type": "string"
            }
          },
          "metadata": {},
          "execution_count": 5
        }
      ],
      "source": [
        "mlp_clsf.out_activation_"
      ]
    },
    {
      "cell_type": "markdown",
      "metadata": {
        "id": "xEC5-Px4vTy7"
      },
      "source": [
        "## MLP Regression "
      ]
    },
    {
      "cell_type": "markdown",
      "metadata": {
        "id": "ENGVw0vUvTy7"
      },
      "source": [
        "MLP Regressorを用いて、ボストンの住宅価格(単位は1000$)を予測するモデルを作る\n",
        "\n",
        "__Dataset__ \n",
        "\n",
        "1970年代のボストン郊外の住宅地に関するデータセット。ボストン郊外の異なるロケーションで13個の住宅に関する変数と住宅の価格の中央値が記録されている。506個のレコードが記録されている。\n",
        "\n",
        "__Goal__\n",
        "\n",
        "その中央値を13個の変数を基に予測する。\n",
        "\n",
        "\n",
        "　"
      ]
    },
    {
      "cell_type": "code",
      "execution_count": 6,
      "metadata": {
        "scrolled": true,
        "id": "fC6bRC1PvTy7",
        "colab": {
          "base_uri": "https://localhost:8080/"
        },
        "outputId": "621be058-b1fe-4dd6-e6b8-f987b147928d"
      },
      "outputs": [
        {
          "output_type": "stream",
          "name": "stderr",
          "text": [
            "/usr/local/lib/python3.7/dist-packages/sklearn/utils/deprecation.py:87: FutureWarning: Function load_boston is deprecated; `load_boston` is deprecated in 1.0 and will be removed in 1.2.\n",
            "\n",
            "    The Boston housing prices dataset has an ethical problem. You can refer to\n",
            "    the documentation of this function for further details.\n",
            "\n",
            "    The scikit-learn maintainers therefore strongly discourage the use of this\n",
            "    dataset unless the purpose of the code is to study and educate about\n",
            "    ethical issues in data science and machine learning.\n",
            "\n",
            "    In this special case, you can fetch the dataset from the original\n",
            "    source::\n",
            "\n",
            "        import pandas as pd\n",
            "        import numpy as np\n",
            "\n",
            "\n",
            "        data_url = \"http://lib.stat.cmu.edu/datasets/boston\"\n",
            "        raw_df = pd.read_csv(data_url, sep=\"\\s+\", skiprows=22, header=None)\n",
            "        data = np.hstack([raw_df.values[::2, :], raw_df.values[1::2, :2]])\n",
            "        target = raw_df.values[1::2, 2]\n",
            "\n",
            "    Alternative datasets include the California housing dataset (i.e.\n",
            "    :func:`~sklearn.datasets.fetch_california_housing`) and the Ames housing\n",
            "    dataset. You can load the datasets as follows::\n",
            "\n",
            "        from sklearn.datasets import fetch_california_housing\n",
            "        housing = fetch_california_housing()\n",
            "\n",
            "    for the California housing dataset and::\n",
            "\n",
            "        from sklearn.datasets import fetch_openml\n",
            "        housing = fetch_openml(name=\"house_prices\", as_frame=True)\n",
            "\n",
            "    for the Ames housing dataset.\n",
            "    \n",
            "  warnings.warn(msg, category=FutureWarning)\n"
          ]
        },
        {
          "output_type": "stream",
          "name": "stdout",
          "text": [
            "RSME: 4.699377521565086\n"
          ]
        }
      ],
      "source": [
        "from sklearn.datasets import load_boston\n",
        "from sklearn.neural_network import MLPRegressor\n",
        "from sklearn.model_selection import train_test_split\n",
        "from sklearn.metrics import mean_squared_error\n",
        "\n",
        "#データセットをロード\n",
        "dataset=load_boston()\n",
        "X=dataset['data']\n",
        "Y=dataset['target']\n",
        "\n",
        "#テストとトレーニングのデータセットに分ける\n",
        "#モデルの評価をしっかりやりたい時は、validationのデータセットを作るのが良い。\n",
        "train_X, test_X, train_Y, test_Y=train_test_split(X,Y,test_size=0.3, random_state=42, shuffle=True)\n",
        "\n",
        "#２個のhidden layerを追加　activation function は relu.\n",
        "mlp_reg = MLPRegressor((10,10),activation ='relu',learning_rate='constant',learning_rate_init=0.001,max_iter=3000,random_state=42)\n",
        "mlp_reg.fit(train_X, train_Y)\n",
        "predictions = mlp_reg.predict(test_X)\n",
        "\n",
        "#RSMEを計算\n",
        "error=mean_squared_error(test_Y, predictions)**(1/2)\n",
        "print(\"RSME: \" +str(error))\n",
        "\n"
      ]
    },
    {
      "cell_type": "markdown",
      "metadata": {
        "id": "VfeMh6E7vTy8"
      },
      "source": [
        "::アウトプットノードのActivation functionはIdentity。（Activation function は使われていないということ。）"
      ]
    },
    {
      "cell_type": "code",
      "execution_count": 7,
      "metadata": {
        "scrolled": true,
        "id": "yLfuWPKWvTy8",
        "colab": {
          "base_uri": "https://localhost:8080/",
          "height": 36
        },
        "outputId": "cfd4e7c1-e068-4f54-cf86-5834c767a85e"
      },
      "outputs": [
        {
          "output_type": "execute_result",
          "data": {
            "text/plain": [
              "'identity'"
            ],
            "application/vnd.google.colaboratory.intrinsic+json": {
              "type": "string"
            }
          },
          "metadata": {},
          "execution_count": 7
        }
      ],
      "source": [
        "mlp_reg.out_activation_"
      ]
    },
    {
      "cell_type": "markdown",
      "metadata": {
        "id": "KFaUB_E7vTy8"
      },
      "source": [
        "## Regression using Keras  "
      ]
    },
    {
      "cell_type": "code",
      "execution_count": 8,
      "metadata": {
        "scrolled": true,
        "id": "36cxPugbvTy8",
        "colab": {
          "base_uri": "https://localhost:8080/"
        },
        "outputId": "237652b8-b6b7-4f36-fdf1-de8652172942"
      },
      "outputs": [
        {
          "output_type": "stream",
          "name": "stdout",
          "text": [
            "Downloading data from https://storage.googleapis.com/tensorflow/tf-keras-datasets/boston_housing.npz\n",
            "57344/57026 [==============================] - 0s 0us/step\n",
            "65536/57026 [==================================] - 0s 0us/step\n",
            "Model: \"sequential\"\n",
            "_________________________________________________________________\n",
            " Layer (type)                Output Shape              Param #   \n",
            "=================================================================\n",
            " dense (Dense)               (None, 30)                420       \n",
            "                                                                 \n",
            " dense_1 (Dense)             (None, 1)                 31        \n",
            "                                                                 \n",
            "=================================================================\n",
            "Total params: 451\n",
            "Trainable params: 451\n",
            "Non-trainable params: 0\n",
            "_________________________________________________________________\n",
            "Epoch 1/70\n",
            "10/10 [==============================] - 1s 20ms/step - loss: 186.9127 - root_mean_squared_error: 13.6716 - val_loss: 81.2043 - val_root_mean_squared_error: 9.0113\n",
            "Epoch 2/70\n",
            "10/10 [==============================] - 0s 4ms/step - loss: 29.6837 - root_mean_squared_error: 5.4483 - val_loss: 34.1660 - val_root_mean_squared_error: 5.8452\n",
            "Epoch 3/70\n",
            "10/10 [==============================] - 0s 6ms/step - loss: 21.6647 - root_mean_squared_error: 4.6545 - val_loss: 17.9778 - val_root_mean_squared_error: 4.2400\n",
            "Epoch 4/70\n",
            "10/10 [==============================] - 0s 6ms/step - loss: 18.2644 - root_mean_squared_error: 4.2737 - val_loss: 27.6014 - val_root_mean_squared_error: 5.2537\n",
            "Epoch 5/70\n",
            "10/10 [==============================] - 0s 4ms/step - loss: 15.3311 - root_mean_squared_error: 3.9155 - val_loss: 18.9558 - val_root_mean_squared_error: 4.3538\n",
            "Epoch 6/70\n",
            "10/10 [==============================] - 0s 7ms/step - loss: 13.6071 - root_mean_squared_error: 3.6888 - val_loss: 21.5534 - val_root_mean_squared_error: 4.6426\n",
            "Epoch 7/70\n",
            "10/10 [==============================] - 0s 6ms/step - loss: 13.7073 - root_mean_squared_error: 3.7023 - val_loss: 20.1970 - val_root_mean_squared_error: 4.4941\n",
            "Epoch 8/70\n",
            "10/10 [==============================] - 0s 4ms/step - loss: 12.0703 - root_mean_squared_error: 3.4742 - val_loss: 18.4616 - val_root_mean_squared_error: 4.2967\n",
            "Epoch 9/70\n",
            "10/10 [==============================] - 0s 7ms/step - loss: 13.1963 - root_mean_squared_error: 3.6327 - val_loss: 20.9787 - val_root_mean_squared_error: 4.5803\n",
            "Epoch 10/70\n",
            "10/10 [==============================] - 0s 6ms/step - loss: 10.5280 - root_mean_squared_error: 3.2447 - val_loss: 11.9110 - val_root_mean_squared_error: 3.4512\n",
            "Epoch 11/70\n",
            "10/10 [==============================] - 0s 6ms/step - loss: 11.9411 - root_mean_squared_error: 3.4556 - val_loss: 17.4155 - val_root_mean_squared_error: 4.1732\n",
            "Epoch 12/70\n",
            "10/10 [==============================] - 0s 6ms/step - loss: 11.1891 - root_mean_squared_error: 3.3450 - val_loss: 18.9694 - val_root_mean_squared_error: 4.3554\n",
            "Epoch 13/70\n",
            "10/10 [==============================] - 0s 6ms/step - loss: 11.2440 - root_mean_squared_error: 3.3532 - val_loss: 21.7367 - val_root_mean_squared_error: 4.6623\n",
            "Epoch 14/70\n",
            "10/10 [==============================] - 0s 6ms/step - loss: 11.3013 - root_mean_squared_error: 3.3617 - val_loss: 16.3180 - val_root_mean_squared_error: 4.0396\n",
            "Epoch 15/70\n",
            "10/10 [==============================] - 0s 6ms/step - loss: 9.3724 - root_mean_squared_error: 3.0614 - val_loss: 28.0595 - val_root_mean_squared_error: 5.2971\n",
            "Epoch 16/70\n",
            "10/10 [==============================] - 0s 7ms/step - loss: 9.3514 - root_mean_squared_error: 3.0580 - val_loss: 20.1816 - val_root_mean_squared_error: 4.4924\n",
            "Epoch 17/70\n",
            "10/10 [==============================] - 0s 4ms/step - loss: 10.5491 - root_mean_squared_error: 3.2479 - val_loss: 19.0466 - val_root_mean_squared_error: 4.3642\n",
            "Epoch 18/70\n",
            "10/10 [==============================] - 0s 6ms/step - loss: 10.9887 - root_mean_squared_error: 3.3149 - val_loss: 13.2640 - val_root_mean_squared_error: 3.6420\n",
            "Epoch 19/70\n",
            "10/10 [==============================] - 0s 4ms/step - loss: 11.6987 - root_mean_squared_error: 3.4203 - val_loss: 13.0807 - val_root_mean_squared_error: 3.6167\n",
            "Epoch 20/70\n",
            "10/10 [==============================] - 0s 4ms/step - loss: 9.6886 - root_mean_squared_error: 3.1127 - val_loss: 17.8619 - val_root_mean_squared_error: 4.2263\n",
            "Epoch 21/70\n",
            "10/10 [==============================] - 0s 6ms/step - loss: 9.2686 - root_mean_squared_error: 3.0444 - val_loss: 18.4243 - val_root_mean_squared_error: 4.2924\n",
            "Epoch 22/70\n",
            "10/10 [==============================] - 0s 6ms/step - loss: 8.7255 - root_mean_squared_error: 2.9539 - val_loss: 19.9148 - val_root_mean_squared_error: 4.4626\n",
            "Epoch 23/70\n",
            "10/10 [==============================] - 0s 5ms/step - loss: 9.0237 - root_mean_squared_error: 3.0039 - val_loss: 15.7098 - val_root_mean_squared_error: 3.9636\n",
            "Epoch 24/70\n",
            "10/10 [==============================] - 0s 5ms/step - loss: 9.0989 - root_mean_squared_error: 3.0164 - val_loss: 13.1390 - val_root_mean_squared_error: 3.6248\n",
            "Epoch 25/70\n",
            "10/10 [==============================] - 0s 5ms/step - loss: 9.9039 - root_mean_squared_error: 3.1470 - val_loss: 15.9167 - val_root_mean_squared_error: 3.9896\n",
            "Epoch 26/70\n",
            "10/10 [==============================] - 0s 6ms/step - loss: 8.5451 - root_mean_squared_error: 2.9232 - val_loss: 16.3472 - val_root_mean_squared_error: 4.0432\n",
            "Epoch 27/70\n",
            "10/10 [==============================] - 0s 5ms/step - loss: 9.0762 - root_mean_squared_error: 3.0127 - val_loss: 15.8703 - val_root_mean_squared_error: 3.9838\n",
            "Epoch 28/70\n",
            "10/10 [==============================] - 0s 6ms/step - loss: 8.9533 - root_mean_squared_error: 2.9922 - val_loss: 17.4423 - val_root_mean_squared_error: 4.1764\n",
            "Epoch 29/70\n",
            "10/10 [==============================] - 0s 4ms/step - loss: 8.8099 - root_mean_squared_error: 2.9681 - val_loss: 14.8140 - val_root_mean_squared_error: 3.8489\n",
            "Epoch 30/70\n",
            "10/10 [==============================] - 0s 6ms/step - loss: 8.4142 - root_mean_squared_error: 2.9007 - val_loss: 15.8525 - val_root_mean_squared_error: 3.9815\n",
            "Epoch 31/70\n",
            "10/10 [==============================] - 0s 6ms/step - loss: 8.6318 - root_mean_squared_error: 2.9380 - val_loss: 17.2759 - val_root_mean_squared_error: 4.1564\n",
            "Epoch 32/70\n",
            "10/10 [==============================] - 0s 6ms/step - loss: 7.9152 - root_mean_squared_error: 2.8134 - val_loss: 12.8329 - val_root_mean_squared_error: 3.5823\n",
            "Epoch 33/70\n",
            "10/10 [==============================] - 0s 6ms/step - loss: 8.5205 - root_mean_squared_error: 2.9190 - val_loss: 15.6173 - val_root_mean_squared_error: 3.9519\n",
            "Epoch 34/70\n",
            "10/10 [==============================] - 0s 5ms/step - loss: 9.1392 - root_mean_squared_error: 3.0231 - val_loss: 18.2449 - val_root_mean_squared_error: 4.2714\n",
            "Epoch 35/70\n",
            "10/10 [==============================] - 0s 4ms/step - loss: 7.9675 - root_mean_squared_error: 2.8227 - val_loss: 13.1445 - val_root_mean_squared_error: 3.6255\n",
            "Epoch 36/70\n",
            "10/10 [==============================] - 0s 6ms/step - loss: 8.2077 - root_mean_squared_error: 2.8649 - val_loss: 13.8641 - val_root_mean_squared_error: 3.7234\n",
            "Epoch 37/70\n",
            "10/10 [==============================] - 0s 4ms/step - loss: 8.2469 - root_mean_squared_error: 2.8717 - val_loss: 13.5605 - val_root_mean_squared_error: 3.6825\n",
            "Epoch 38/70\n",
            "10/10 [==============================] - 0s 6ms/step - loss: 7.7100 - root_mean_squared_error: 2.7767 - val_loss: 13.8244 - val_root_mean_squared_error: 3.7181\n",
            "Epoch 39/70\n",
            "10/10 [==============================] - 0s 4ms/step - loss: 8.2265 - root_mean_squared_error: 2.8682 - val_loss: 14.9104 - val_root_mean_squared_error: 3.8614\n",
            "Epoch 40/70\n",
            "10/10 [==============================] - 0s 4ms/step - loss: 7.1317 - root_mean_squared_error: 2.6705 - val_loss: 13.1794 - val_root_mean_squared_error: 3.6303\n",
            "Epoch 41/70\n",
            "10/10 [==============================] - 0s 5ms/step - loss: 8.3563 - root_mean_squared_error: 2.8907 - val_loss: 11.7375 - val_root_mean_squared_error: 3.4260\n",
            "Epoch 42/70\n",
            "10/10 [==============================] - 0s 5ms/step - loss: 8.6990 - root_mean_squared_error: 2.9494 - val_loss: 19.7279 - val_root_mean_squared_error: 4.4416\n",
            "Epoch 43/70\n",
            "10/10 [==============================] - 0s 7ms/step - loss: 8.7084 - root_mean_squared_error: 2.9510 - val_loss: 22.0374 - val_root_mean_squared_error: 4.6944\n",
            "Epoch 44/70\n",
            "10/10 [==============================] - 0s 4ms/step - loss: 8.0472 - root_mean_squared_error: 2.8368 - val_loss: 18.9285 - val_root_mean_squared_error: 4.3507\n",
            "Epoch 45/70\n",
            "10/10 [==============================] - 0s 6ms/step - loss: 7.0342 - root_mean_squared_error: 2.6522 - val_loss: 19.4362 - val_root_mean_squared_error: 4.4086\n",
            "Epoch 46/70\n",
            "10/10 [==============================] - 0s 6ms/step - loss: 7.7728 - root_mean_squared_error: 2.7880 - val_loss: 14.8167 - val_root_mean_squared_error: 3.8492\n",
            "Epoch 47/70\n",
            "10/10 [==============================] - 0s 6ms/step - loss: 7.4750 - root_mean_squared_error: 2.7340 - val_loss: 10.9059 - val_root_mean_squared_error: 3.3024\n",
            "Epoch 48/70\n",
            "10/10 [==============================] - 0s 6ms/step - loss: 7.9814 - root_mean_squared_error: 2.8251 - val_loss: 20.9609 - val_root_mean_squared_error: 4.5783\n",
            "Epoch 49/70\n",
            "10/10 [==============================] - 0s 4ms/step - loss: 7.3671 - root_mean_squared_error: 2.7142 - val_loss: 14.5975 - val_root_mean_squared_error: 3.8207\n",
            "Epoch 50/70\n",
            "10/10 [==============================] - 0s 7ms/step - loss: 7.8644 - root_mean_squared_error: 2.8044 - val_loss: 17.8647 - val_root_mean_squared_error: 4.2267\n",
            "Epoch 51/70\n",
            "10/10 [==============================] - 0s 4ms/step - loss: 7.6035 - root_mean_squared_error: 2.7574 - val_loss: 18.1579 - val_root_mean_squared_error: 4.2612\n",
            "Epoch 52/70\n",
            "10/10 [==============================] - 0s 4ms/step - loss: 7.6208 - root_mean_squared_error: 2.7606 - val_loss: 15.1467 - val_root_mean_squared_error: 3.8919\n",
            "Epoch 53/70\n",
            "10/10 [==============================] - 0s 4ms/step - loss: 7.7160 - root_mean_squared_error: 2.7778 - val_loss: 17.6460 - val_root_mean_squared_error: 4.2007\n",
            "Epoch 54/70\n",
            "10/10 [==============================] - 0s 6ms/step - loss: 7.7537 - root_mean_squared_error: 2.7845 - val_loss: 18.5301 - val_root_mean_squared_error: 4.3047\n",
            "Epoch 55/70\n",
            "10/10 [==============================] - 0s 4ms/step - loss: 7.8940 - root_mean_squared_error: 2.8096 - val_loss: 16.5133 - val_root_mean_squared_error: 4.0637\n",
            "Epoch 56/70\n",
            "10/10 [==============================] - 0s 4ms/step - loss: 7.2491 - root_mean_squared_error: 2.6924 - val_loss: 12.7495 - val_root_mean_squared_error: 3.5706\n",
            "Epoch 57/70\n",
            "10/10 [==============================] - 0s 6ms/step - loss: 7.8871 - root_mean_squared_error: 2.8084 - val_loss: 14.0948 - val_root_mean_squared_error: 3.7543\n",
            "Epoch 58/70\n",
            "10/10 [==============================] - 0s 5ms/step - loss: 7.1209 - root_mean_squared_error: 2.6685 - val_loss: 13.9208 - val_root_mean_squared_error: 3.7311\n",
            "Epoch 59/70\n",
            "10/10 [==============================] - 0s 6ms/step - loss: 7.0590 - root_mean_squared_error: 2.6569 - val_loss: 13.0397 - val_root_mean_squared_error: 3.6110\n",
            "Epoch 60/70\n",
            "10/10 [==============================] - 0s 4ms/step - loss: 6.9951 - root_mean_squared_error: 2.6448 - val_loss: 13.7224 - val_root_mean_squared_error: 3.7044\n",
            "Epoch 61/70\n",
            "10/10 [==============================] - 0s 6ms/step - loss: 6.7133 - root_mean_squared_error: 2.5910 - val_loss: 15.9665 - val_root_mean_squared_error: 3.9958\n",
            "Epoch 62/70\n",
            "10/10 [==============================] - 0s 4ms/step - loss: 7.2152 - root_mean_squared_error: 2.6861 - val_loss: 14.8959 - val_root_mean_squared_error: 3.8595\n",
            "Epoch 63/70\n",
            "10/10 [==============================] - 0s 5ms/step - loss: 6.7279 - root_mean_squared_error: 2.5938 - val_loss: 13.6864 - val_root_mean_squared_error: 3.6995\n",
            "Epoch 64/70\n",
            "10/10 [==============================] - 0s 5ms/step - loss: 6.8803 - root_mean_squared_error: 2.6230 - val_loss: 13.8471 - val_root_mean_squared_error: 3.7212\n",
            "Epoch 65/70\n",
            "10/10 [==============================] - 0s 4ms/step - loss: 6.9612 - root_mean_squared_error: 2.6384 - val_loss: 13.9719 - val_root_mean_squared_error: 3.7379\n",
            "Epoch 66/70\n",
            "10/10 [==============================] - 0s 6ms/step - loss: 6.5692 - root_mean_squared_error: 2.5631 - val_loss: 15.6556 - val_root_mean_squared_error: 3.9567\n",
            "Epoch 67/70\n",
            "10/10 [==============================] - 0s 4ms/step - loss: 6.9413 - root_mean_squared_error: 2.6346 - val_loss: 17.5437 - val_root_mean_squared_error: 4.1885\n",
            "Epoch 68/70\n",
            "10/10 [==============================] - 0s 4ms/step - loss: 7.5058 - root_mean_squared_error: 2.7397 - val_loss: 19.3365 - val_root_mean_squared_error: 4.3973\n",
            "Epoch 69/70\n",
            "10/10 [==============================] - 0s 6ms/step - loss: 6.7572 - root_mean_squared_error: 2.5995 - val_loss: 18.6373 - val_root_mean_squared_error: 4.3171\n",
            "Epoch 70/70\n",
            "10/10 [==============================] - 0s 6ms/step - loss: 7.6473 - root_mean_squared_error: 2.7654 - val_loss: 14.1474 - val_root_mean_squared_error: 3.7613\n"
          ]
        }
      ],
      "source": [
        "from matplotlib.rcsetup import validate_cycler\n",
        "import tensorflow as tf \n",
        "from tensorflow import keras\n",
        "from sklearn.preprocessing import StandardScaler\n",
        "\n",
        "#データセットをダウンロード\n",
        "house_price = keras.datasets.boston_housing\n",
        "#データをtraining, validation, test に分ける\n",
        "(train_X, train_Y), (test_X, test_Y)=house_price.load_data()\n",
        "train_X, valid_X, train_Y,valid_Y=train_test_split(train_X, train_Y)\n",
        "\n",
        "#変数をスケーリング　最適化を早くするため\n",
        "scaler=StandardScaler()\n",
        "train_X=scaler.fit_transform(train_X)\n",
        "valid_X=scaler.fit_transform(valid_X)\n",
        "test_X=scaler.fit_transform(test_X)\n",
        "\n",
        "#KerasのSequential model を使う\n",
        "keras_model=keras.models.Sequential()\n",
        "#インプットレイヤーを追加\n",
        "keras_model.add(tf.keras.Input(shape=train_X.shape[1:],))\n",
        "#Hidden layer を追加\n",
        "keras_model.add(tf.keras.layers.Dense(30,activation=\"relu\"))\n",
        "#Output layer を追加\n",
        "keras_model.add(tf.keras.layers.Dense(1))\n",
        "\n",
        "keras_model.summary()\n",
        "\n",
        "#モデルをコンパイル\n",
        "keras_model.compile(loss=\"mean_squared_error\", optimizer=\"sgd\", metrics=[tf.keras.metrics.RootMeanSquaredError(name=\"root_mean_squared_error\", dtype=None)])\n",
        "\n",
        "#モデルをトレーニング\n",
        "#validationのデータセットがあれば、それを渡すことで、validationに関してのlossやRMSEの計算なども簡単にできる。\n",
        "history = keras_model.fit(train_X, train_Y, epochs=70, validation_data=(valid_X, valid_Y))\n"
      ]
    },
    {
      "cell_type": "markdown",
      "source": [
        "損失関数とRMSEの値をエポックごとにプロットする。ValidationとTraningのデータセットのそれぞれに、その二つの値が計算されている。　エポックはトレーニングのデータセットを何回学習したかを表します。ニューラルネットでは一つのトレーニングのデータセットを何回も学習させます。"
      ],
      "metadata": {
        "id": "nudpvV9FNTI8"
      }
    },
    {
      "cell_type": "code",
      "execution_count": 9,
      "metadata": {
        "id": "QeqAypyevTy9",
        "colab": {
          "base_uri": "https://localhost:8080/",
          "height": 501
        },
        "outputId": "3aa957bc-8467-483c-9160-225e09fbd851"
      },
      "outputs": [
        {
          "output_type": "display_data",
          "data": {
            "text/plain": [
              "<Figure size 720x576 with 1 Axes>"
            ],
            "image/png": "[encoded data removed]"
          },
          "metadata": {
            "needs_background": "light"
          }
        }
      ],
      "source": [
        "import pandas as pd \n",
        "import matplotlib.pyplot as plt\n",
        "pd.DataFrame(history.history).plot(figsize=(10,8))\n",
        "plt.grid(True)\n",
        "plt.gca().set_ylim(0,60)\n",
        "plt.xlabel(\"# of Epocs\")\n",
        "plt.show()\n",
        "\n",
        "\n",
        "\n"
      ]
    },
    {
      "cell_type": "markdown",
      "source": [
        "Test Datasetにモデルを適応して、RMSEを計算"
      ],
      "metadata": {
        "id": "3xW99aZMN49B"
      }
    },
    {
      "cell_type": "code",
      "execution_count": 10,
      "metadata": {
        "id": "AA35BTjJvTy9",
        "colab": {
          "base_uri": "https://localhost:8080/"
        },
        "outputId": "5c075305-7dac-434f-9a29-2d81d18be259"
      },
      "outputs": [
        {
          "output_type": "execute_result",
          "data": {
            "text/plain": [
              "4.28114568449844"
            ]
          },
          "metadata": {},
          "execution_count": 10
        }
      ],
      "source": [
        "mean_squared_error(test_Y,keras_model.predict(test_X)) ** (1/2)"
      ]
    },
    {
      "cell_type": "markdown",
      "metadata": {
        "id": "7hXlz7iBvTy9"
      },
      "source": [
        "## Classificaiton using Keras "
      ]
    },
    {
      "cell_type": "markdown",
      "source": [
        "Dataset\n",
        "\n",
        "手書きの数字を表したイメージが含まれている。イメージは28*28で全７８４ピクセル。\n",
        "\n",
        "Goal \n",
        "\n",
        "イメージが０から９のどの数字なのかを判別する。"
      ],
      "metadata": {
        "id": "7H6eGUDslmQR"
      }
    },
    {
      "cell_type": "code",
      "execution_count": 11,
      "metadata": {
        "id": "f-R9_s0IvTy9",
        "colab": {
          "base_uri": "https://localhost:8080/"
        },
        "outputId": "4df44263-7958-4fd6-d919-e53e9a332dd3"
      },
      "outputs": [
        {
          "output_type": "stream",
          "name": "stdout",
          "text": [
            "Downloading data from https://storage.googleapis.com/tensorflow/tf-keras-datasets/mnist.npz\n",
            "11493376/11490434 [==============================] - 0s 0us/step\n",
            "11501568/11490434 [==============================] - 0s 0us/step\n"
          ]
        }
      ],
      "source": [
        "#データをダウンロードして、トレーニングとテストに分ける\n",
        "(train_X, train_Y), (test_X, test_Y) = tf.keras.datasets.mnist.load_data(path=\"mnist.npz\")\n"
      ]
    },
    {
      "cell_type": "code",
      "execution_count": 12,
      "metadata": {
        "scrolled": true,
        "id": "caiVoYtgvTy9",
        "colab": {
          "base_uri": "https://localhost:8080/",
          "height": 265
        },
        "outputId": "b1384551-9785-4f9c-9c26-0db851812c06"
      },
      "outputs": [
        {
          "output_type": "display_data",
          "data": {
            "text/plain": [
              "<Figure size 432x288 with 1 Axes>"
            ],
            "image/png": "[encoded data removed]"
          },
          "metadata": {
            "needs_background": "light"
          }
        }
      ],
      "source": [
        "#イメージを実際に視覚化してみる\n",
        "from matplotlib import pyplot as plt\n",
        "plt.imshow(train_X[0],cmap='Greys')\n",
        "plt.show()"
      ]
    },
    {
      "cell_type": "code",
      "execution_count": 13,
      "metadata": {
        "scrolled": true,
        "id": "enlaIOA1vTy9",
        "colab": {
          "base_uri": "https://localhost:8080/"
        },
        "outputId": "93a4dc59-eedf-427b-dd33-94775b57e379"
      },
      "outputs": [
        {
          "output_type": "stream",
          "name": "stdout",
          "text": [
            "Model: \"sequential_1\"\n",
            "_________________________________________________________________\n",
            " Layer (type)                Output Shape              Param #   \n",
            "=================================================================\n",
            " flatten (Flatten)           (None, 784)               0         \n",
            "                                                                 \n",
            " dense_2 (Dense)             (None, 10)                7850      \n",
            "                                                                 \n",
            "=================================================================\n",
            "Total params: 7,850\n",
            "Trainable params: 7,850\n",
            "Non-trainable params: 0\n",
            "_________________________________________________________________\n",
            "Epoch 1/20\n",
            "1407/1407 [==============================] - 4s 3ms/step - loss: 0.8677 - accuracy: 0.7946 - val_loss: 0.5590 - val_accuracy: 0.8599\n",
            "Epoch 2/20\n",
            "1407/1407 [==============================] - 3s 2ms/step - loss: 0.4908 - accuracy: 0.8741 - val_loss: 0.4614 - val_accuracy: 0.8774\n",
            "Epoch 3/20\n",
            "1407/1407 [==============================] - 3s 2ms/step - loss: 0.4273 - accuracy: 0.8866 - val_loss: 0.4204 - val_accuracy: 0.8853\n",
            "Epoch 4/20\n",
            "1407/1407 [==============================] - 3s 2ms/step - loss: 0.3960 - accuracy: 0.8935 - val_loss: 0.3965 - val_accuracy: 0.8896\n",
            "Epoch 5/20\n",
            "1407/1407 [==============================] - 3s 2ms/step - loss: 0.3764 - accuracy: 0.8978 - val_loss: 0.3816 - val_accuracy: 0.8923\n",
            "Epoch 6/20\n",
            "1407/1407 [==============================] - 3s 2ms/step - loss: 0.3626 - accuracy: 0.9007 - val_loss: 0.3699 - val_accuracy: 0.8977\n",
            "Epoch 7/20\n",
            "1407/1407 [==============================] - 3s 2ms/step - loss: 0.3521 - accuracy: 0.9030 - val_loss: 0.3612 - val_accuracy: 0.8995\n",
            "Epoch 8/20\n",
            "1407/1407 [==============================] - 3s 2ms/step - loss: 0.3439 - accuracy: 0.9046 - val_loss: 0.3538 - val_accuracy: 0.9013\n",
            "Epoch 9/20\n",
            "1407/1407 [==============================] - 3s 2ms/step - loss: 0.3372 - accuracy: 0.9067 - val_loss: 0.3482 - val_accuracy: 0.9035\n",
            "Epoch 10/20\n",
            "1407/1407 [==============================] - 3s 2ms/step - loss: 0.3314 - accuracy: 0.9083 - val_loss: 0.3436 - val_accuracy: 0.9025\n",
            "Epoch 11/20\n",
            "1407/1407 [==============================] - 3s 2ms/step - loss: 0.3265 - accuracy: 0.9096 - val_loss: 0.3395 - val_accuracy: 0.9045\n",
            "Epoch 12/20\n",
            "1407/1407 [==============================] - 3s 2ms/step - loss: 0.3224 - accuracy: 0.9103 - val_loss: 0.3355 - val_accuracy: 0.9064\n",
            "Epoch 13/20\n",
            "1407/1407 [==============================] - 4s 3ms/step - loss: 0.3186 - accuracy: 0.9110 - val_loss: 0.3325 - val_accuracy: 0.9066\n",
            "Epoch 14/20\n",
            "1407/1407 [==============================] - 3s 2ms/step - loss: 0.3154 - accuracy: 0.9121 - val_loss: 0.3297 - val_accuracy: 0.9079\n",
            "Epoch 15/20\n",
            "1407/1407 [==============================] - 3s 2ms/step - loss: 0.3124 - accuracy: 0.9131 - val_loss: 0.3273 - val_accuracy: 0.9091\n",
            "Epoch 16/20\n",
            "1407/1407 [==============================] - 3s 2ms/step - loss: 0.3097 - accuracy: 0.9140 - val_loss: 0.3246 - val_accuracy: 0.9089\n",
            "Epoch 17/20\n",
            "1407/1407 [==============================] - 3s 2ms/step - loss: 0.3073 - accuracy: 0.9144 - val_loss: 0.3226 - val_accuracy: 0.9096\n",
            "Epoch 18/20\n",
            "1407/1407 [==============================] - 3s 2ms/step - loss: 0.3049 - accuracy: 0.9153 - val_loss: 0.3211 - val_accuracy: 0.9100\n",
            "Epoch 19/20\n",
            "1407/1407 [==============================] - 3s 2ms/step - loss: 0.3029 - accuracy: 0.9158 - val_loss: 0.3195 - val_accuracy: 0.9110\n",
            "Epoch 20/20\n",
            "1407/1407 [==============================] - 3s 2ms/step - loss: 0.3009 - accuracy: 0.9162 - val_loss: 0.3177 - val_accuracy: 0.9110\n"
          ]
        }
      ],
      "source": [
        "import tensorflow as tf \n",
        "from tensorflow import keras\n",
        "from sklearn.preprocessing import StandardScaler\n",
        "\n",
        "#training と　validationに分ける\n",
        "train_X, valid_X, train_Y, valid_Y = train_test_split(train_X, train_Y)\n",
        "\n",
        "#最適化のアルゴリズムを早くするために、変数をスケーリングします。\n",
        "train_X = train_X / 255.0\n",
        "valid_X = valid_X / 255.0\n",
        "test_X = test_X / 255.0\n",
        "\n",
        "\n",
        "keras_clf = keras.models.Sequential()\n",
        "#input layerを作る。もともとのinputのデータが2-Dなので、1Dにします。\n",
        "keras_clf.add(keras.layers.Flatten(input_shape=[28,28]))\n",
        "#output layer を作る.10個のクラスがあるので、10個のニューロンが必要。\n",
        "keras_clf.add(keras.layers.Dense(10,activation = 'softmax'))\n",
        "keras_clf.summary()\n",
        "keras_clf.compile(loss=\"sparse_categorical_crossentropy\", optimizer=\"sgd\",metrics=[\"accuracy\"])\n",
        "history = keras_clf.fit(train_X, train_Y, epochs=20, validation_data=(valid_X, valid_Y))\n",
        "\n",
        "\n",
        "\n",
        "\n"
      ]
    },
    {
      "cell_type": "markdown",
      "source": [
        " 損失関数とaccuracyの値をエポックごとにプロットする。ValidationとTraningのデータセットのそれぞれに、その二つの値が計算されている。"
      ],
      "metadata": {
        "id": "OFAHqKmTnFlp"
      }
    },
    {
      "cell_type": "code",
      "execution_count": 14,
      "metadata": {
        "id": "bPTb-xO0vTy-",
        "colab": {
          "base_uri": "https://localhost:8080/",
          "height": 334
        },
        "outputId": "79e746a6-47eb-4561-894d-83e5f9191687"
      },
      "outputs": [
        {
          "output_type": "display_data",
          "data": {
            "text/plain": [
              "<Figure size 576x360 with 1 Axes>"
            ],
            "image/png": "[encoded data removed]"
          },
          "metadata": {
            "needs_background": "light"
          }
        }
      ],
      "source": [
        "pd.DataFrame(history.history).plot(figsize=(8,5))\n",
        "plt.grid(True)\n",
        "plt.gca()\n",
        "plt.xlabel(\"# of Epocs\")\n",
        "plt.show()"
      ]
    },
    {
      "cell_type": "markdown",
      "metadata": {
        "id": "7AMbWYBavTy-"
      },
      "source": [
        "### Test データを使って予測してみる"
      ]
    },
    {
      "cell_type": "code",
      "execution_count": 15,
      "metadata": {
        "id": "sRT4lmozvTy-",
        "colab": {
          "base_uri": "https://localhost:8080/"
        },
        "outputId": "bc1d9ac7-aad1-45a0-a503-dac26eeba5fe"
      },
      "outputs": [
        {
          "output_type": "stream",
          "name": "stdout",
          "text": [
            "Accuracy: 0.9174\n"
          ]
        }
      ],
      "source": [
        "#accuracyを計算\n",
        "from sklearn.metrics import accuracy_score\n",
        "print(\"Accuracy: \" +str(accuracy_score(test_Y,keras_clf.predict(test_X).argmax(axis=-1))))"
      ]
    },
    {
      "cell_type": "markdown",
      "source": [
        "ニューラルネットの学習の視覚化"
      ],
      "metadata": {
        "id": "tQD_UdQ02IB-"
      }
    },
    {
      "cell_type": "markdown",
      "source": [
        "この数字判別の問題だと、アウトプットノードが１０個あります。それぞれのノードが７８４個のインプットノードとエッジで結ばれていて、そのエッジに重みがつけられています。つまり、一つのクラスに７８４個の重みがあります。\n",
        "\n",
        "それでは、ここでいう重みの最適化は何を指すのでしょうか？簡単にいうと、あるラベルがついたインプットが来た時、そのラベルを判別するアウトプットノードが他のノードに比べて大きな値を出力できるような重みを計算するのが最適化にあたります。\n",
        "\n",
        "この数字判別の例だと、仮に１を表すインプットが与えられた時、１を判別するアウトプットノードが一番大きい値を出力するような重みを計算しなければなりません。もう少し詳しくいうと、１という数字のイメージに相関があるピクセルに高い重みを与えればいいのです。そうすれば、インプットと重みのドット積も大きな値を出します。\n",
        "\n",
        "従って、重みを視覚化すると数字がぼんやりと見えます。下の図は数字の３を判別するアウトプットノードと全てのインプットのエッジの間の重みを視覚化したものです。 赤いとこほど、大きな重みを持っています。\n",
        "\n",
        "ニューラルネットワークでの学習は重みを最適化することです。あるインプットに紐づいている重みが少ないということは、それほど重要ではないということです。下の図は、そういった意味ではニューラルネットワークが重要だと学習したピクセルの位置を示していると言えます。\n",
        "\n"
      ],
      "metadata": {
        "id": "Q_XyJliK3ss1"
      }
    },
    {
      "cell_type": "code",
      "execution_count": 16,
      "metadata": {
        "id": "RvhoDv9dvTy-",
        "colab": {
          "base_uri": "https://localhost:8080/",
          "height": 283
        },
        "outputId": "fb22b570-c7cd-4c6b-ee9a-55a64a637165"
      },
      "outputs": [
        {
          "output_type": "execute_result",
          "data": {
            "text/plain": [
              "<matplotlib.image.AxesImage at 0x7f3024afd5d0>"
            ]
          },
          "metadata": {},
          "execution_count": 16
        },
        {
          "output_type": "display_data",
          "data": {
            "text/plain": [
              "<Figure size 432x288 with 1 Axes>"
            ],
            "image/png": "[encoded data removed]"
          },
          "metadata": {
            "needs_background": "light"
          }
        }
      ],
      "source": [
        "#３のアウトプットノードに関連する重みを全部について、２８＊２８の2-Dに変換\n",
        "plt.imshow(np.reshape(keras_clf.get_weights()[0][:,3],(28,28)),cmap=\"seismic\")"
      ]
    }
  ],
  "metadata": {
    "kernelspec": {
      "display_name": "Python 3",
      "language": "python",
      "name": "python3"
    },
    "language_info": {
      "codemirror_mode": {
        "name": "ipython",
        "version": 3
      },
      "file_extension": ".py",
      "mimetype": "text/x-python",
      "name": "python",
      "nbconvert_exporter": "python",
      "pygments_lexer": "ipython3",
      "version": "3.8.5"
    },
    "colab": {
      "name": "Deep_learning_material_tempate.ipynb",
      "provenance": [],
      "collapsed_sections": [],
      "include_colab_link": true
    }
  },
  "nbformat": 4,
  "nbformat_minor": 0
}