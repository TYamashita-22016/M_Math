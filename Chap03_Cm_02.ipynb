{
  "nbformat": 4,
  "nbformat_minor": 0,
  "metadata": {
    "colab": {
      "name": "Chap03-Cm-02.ipynb",
      "provenance": [],
      "authorship_tag": "ABX9TyPRcmXBbE7aGa49FILj/MK2",
      "include_colab_link": true
    },
    "kernelspec": {
      "name": "python3",
      "display_name": "Python 3"
    },
    "language_info": {
      "name": "python"
    }
  },
  "cells": [
    {
      "cell_type": "markdown",
      "metadata": {
        "id": "view-in-github",
        "colab_type": "text"
      },
      "source": [
        "<a href=\"https://colab.research.google.com/github/TYamashita-22016/M_Math/blob/main/Chap03_Cm_02.ipynb\" target=\"_parent\"><img src=\"https://colab.research.google.com/assets/colab-badge.svg\" alt=\"Open In Colab\"/></a>"
      ]
    },
    {
      "cell_type": "code",
      "execution_count": 14,
      "metadata": {
        "colab": {
          "base_uri": "https://localhost:8080/",
          "height": 286
        },
        "id": "LOMUzu5wVnA-",
        "outputId": "5f308c55-9cb2-4505-c547-5c73d83ab2c4"
      },
      "outputs": [
        {
          "output_type": "execute_result",
          "data": {
            "text/plain": [
              "<matplotlib.legend.Legend at 0x7f0238105050>"
            ]
          },
          "metadata": {},
          "execution_count": 14
        },
        {
          "output_type": "display_data",
          "data": {
            "text/plain": [
              "<Figure size 432x288 with 1 Axes>"
            ],
            "image/png": "[encoded data removed]"
          },
          "metadata": {
            "needs_background": "light"
          }
        }
      ],
      "source": [
        "from numpy.ma.core import cumsum\n",
        "import numpy as np\n",
        "import numpy.random as random\n",
        "import scipy as sp\n",
        "import pandas as pd\n",
        "from pandas import Series, DataFrame\n",
        "\n",
        "import matplotlib.pyplot as plt\n",
        "import matplotlib as mpl\n",
        "import seaborn as sns\n",
        "sns.set()\n",
        "%matplotlib inline\n",
        "%precision 3\n",
        "\n",
        "import requests, zipfile\n",
        "from io import StringIO\n",
        "import io\n",
        "\n",
        "from sklearn import linear_model\n",
        "\n",
        "###ローレンツ曲線を図示する###\n",
        "\n",
        "url = 'https://archive.ics.uci.edu/ml/machine-learning-databases/00356/student.zip'\n",
        "r = requests.get(url, stream = True)\n",
        "z = zipfile.ZipFile(io.BytesIO(r.content))\n",
        "z.extractall()\n",
        "student_data_math=pd.read_csv('student-mat.csv', sep=';')\n",
        "#男女別にデータを分ける\n",
        "student_data_math_M=student_data_math[student_data_math['sex']=='M']\n",
        "student_data_math_F=student_data_math[student_data_math['sex']=='F']\n",
        "#昇順に並べ替える\n",
        "sort_M=student_data_math_M.G1.sort_values()\n",
        "sort_F=student_data_math_F.G1.sort_values()\n",
        "\n",
        "plt.plot(np.arange(len(sort_M))/len(sort_M), sort_M.cumsum()/sort_M.sum(), label='Male')\n",
        "plt.plot(np.arange(len(sort_F))/len(sort_F), sort_F.cumsum()/sort_F.sum(), label='Female')\n",
        "plt.legend()\n",
        "\n",
        "#student_data_math_M.head()\n"
      ]
    },
    {
      "cell_type": "code",
      "source": [
        "###ローレンツ曲線を用いてジニ係数を求める###\n",
        "\n",
        "#男性のジニ係数\n",
        "sum=0\n",
        "array_sort_M=np.array(sort_M)\n",
        "for i in range(0, len(sort_M)):\n",
        "  for j in range(0, len(sort_M)):\n",
        "    sum += np.abs(array_sort_M[i] - array_sort_M[j])\n",
        "\n",
        "ans_M = sum/(2*len(sort_M)*len(sort_M)*np.mean(sort_M))\n",
        "\n",
        "#女性のジニ係数\n",
        "sum=0\n",
        "array_sort_F=np.array(sort_F)\n",
        "for i in range(0, len(sort_F)):\n",
        "  for j in range(0, len(sort_F)):\n",
        "    sum += np.abs(array_sort_F[i] - array_sort_F[j])\n",
        "\n",
        "ans_F = sum/(2*len(sort_F)*len(sort_F)*np.mean(sort_F))\n",
        "\n",
        "\n",
        "print('男性のジニ係数：', ans_M)\n",
        "print('女性のジニ係数：', ans_F)\n",
        "\n",
        "\n"
      ],
      "metadata": {
        "colab": {
          "base_uri": "https://localhost:8080/"
        },
        "id": "-XT5pIrQwXKE",
        "outputId": "ac5f0a67-0dd2-495e-a3af-06cac260c469"
      },
      "execution_count": 47,
      "outputs": [
        {
          "output_type": "stream",
          "name": "stdout",
          "text": [
            "男性のジニ係数： 0.17197351667939903\n",
            "女性のジニ係数： 0.1723782950865341\n"
          ]
        }
      ]
    }
  ]
}