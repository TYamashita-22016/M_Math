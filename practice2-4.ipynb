{
  "nbformat": 4,
  "nbformat_minor": 0,
  "metadata": {
    "colab": {
      "name": "Untitled1.ipynb",
      "provenance": [],
      "authorship_tag": "ABX9TyPOLVHF5sb4e6WzN1t+hh6o",
      "include_colab_link": true
    },
    "kernelspec": {
      "name": "python3",
      "display_name": "Python 3"
    },
    "language_info": {
      "name": "python"
    }
  },
  "cells": [
    {
      "cell_type": "markdown",
      "metadata": {
        "id": "view-in-github",
        "colab_type": "text"
      },
      "source": [
        "<a href=\"https://colab.research.google.com/github/TYamashita-22016/Math/blob/main/practice2-4.ipynb\" target=\"_parent\"><img src=\"https://colab.research.google.com/assets/colab-badge.svg\" alt=\"Open In Colab\"/></a>"
      ]
    },
    {
      "cell_type": "code",
      "execution_count": 47,
      "metadata": {
        "id": "Ls5cwDV4Eh9h",
        "outputId": "b6b2c63e-3da5-44ab-bc7f-f01808b0e3f0",
        "colab": {
          "base_uri": "https://localhost:8080/"
        }
      },
      "outputs": [
        {
          "output_type": "stream",
          "name": "stdout",
          "text": [
            "行列式\n",
            "-12.0\n",
            "逆行列\n",
            "[[-0.333  0.083  0.417]\n",
            " [-0.333  0.583 -0.083]\n",
            " [ 0.667 -0.417 -0.083]]\n",
            "固有値\n",
            "[ 6.   +0.j -1.414+0.j  1.414+0.j]\n",
            "固有ベクトル\n",
            "[[-0.577 -0.722  0.16 ]\n",
            " [-0.577 -0.143 -0.811]\n",
            " [-0.577  0.677  0.563]]\n",
            "-0.45339765151640365\n"
          ]
        }
      ],
      "source": [
        "import numpy as np\n",
        "import numpy.random as random\n",
        "import scipy as sp\n",
        "import pandas as pd\n",
        "from pandas import Series, DataFrame\n",
        "\n",
        "import matplotlib.pyplot as ply\n",
        "import matplotlib as mpl\n",
        "import seaborn as sns\n",
        "\n",
        "import scipy.linalg as linalg\n",
        "from scipy.optimize import minimize_scalar\n",
        "from scipy.optimize import newton\n",
        "%matplotlib inline\n",
        "\n",
        "%precision 3\n",
        "\n",
        "#演習2-4\n",
        "matrix = np.array([[1,2,3],[1,3,2],[3,1,2]])\n",
        "print('行列式')\n",
        "print(linalg.det(matrix))\n",
        "#演習2-5\n",
        "#逆行列\n",
        "print('逆行列')\n",
        "print(linalg.inv(matrix))\n",
        "#固有値と固有ベクトル\n",
        "eig_value, eig_vector = linalg.eig(matrix)\n",
        "print('固有値')\n",
        "print(eig_value)\n",
        "print('固有ベクトル')\n",
        "print(eig_vector)\n",
        "\n",
        "def my_function(x):\n",
        "  return(x**3 + 2*x + 1)\n",
        "print(newton(my_function,0))"
      ]
    }
  ]
}