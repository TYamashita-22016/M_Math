{
  "nbformat": 4,
  "nbformat_minor": 0,
  "metadata": {
    "colab": {
      "name": "Untitled1.ipynb",
      "provenance": [],
      "authorship_tag": "ABX9TyOy0Hq8nBbTsLiQf2qEO7y3",
      "include_colab_link": true
    },
    "kernelspec": {
      "name": "python3",
      "display_name": "Python 3"
    },
    "language_info": {
      "name": "python"
    }
  },
  "cells": [
    {
      "cell_type": "markdown",
      "metadata": {
        "id": "view-in-github",
        "colab_type": "text"
      },
      "source": [
        "<a href=\"https://colab.research.google.com/github/TYamashita-22016/Math/blob/main/c2-3.ipynb\" target=\"_parent\"><img src=\"https://colab.research.google.com/assets/colab-badge.svg\" alt=\"Open In Colab\"/></a>"
      ]
    },
    {
      "cell_type": "code",
      "execution_count": 38,
      "metadata": {
        "id": "Ls5cwDV4Eh9h",
        "outputId": "b958836e-3dc9-499c-da72-2b6338551c3c",
        "colab": {
          "base_uri": "https://localhost:8080/"
        }
      },
      "outputs": [
        {
          "output_type": "stream",
          "name": "stdout",
          "text": [
            "行列式\n",
            "-4.0\n",
            "逆行列\n",
            "[[ 0.  -0.5 -0.5]\n",
            " [-0.5 -0.  -0.5]\n",
            " [-0.5 -0.5  0. ]]\n",
            "[[1. 0. 0.]\n",
            " [0. 1. 0.]\n",
            " [0. 0. 1.]]\n",
            "固有値\n",
            "[-1.+0.j  2.+0.j  2.+0.j]\n",
            "固有ベクトル\n",
            "[[ 0.577  0.816  0.408]\n",
            " [ 0.577 -0.408 -0.816]\n",
            " [ 0.577 -0.408  0.408]]\n",
            "-0.9999999852953906\n",
            "     fun: 0.0\n",
            "    nfev: 9\n",
            "     nit: 4\n",
            " success: True\n",
            "       x: -1.0000000000000002\n"
          ]
        }
      ],
      "source": [
        "import numpy as np\n",
        "import numpy.random as random\n",
        "import scipy as sp\n",
        "import pandas as pd\n",
        "from pandas import Series, DataFrame\n",
        "\n",
        "import matplotlib.pyplot as ply\n",
        "import matplotlib as mpl\n",
        "import seaborn as sns\n",
        "\n",
        "import scipy.linalg as linalg\n",
        "from scipy.optimize import minimize_scalar\n",
        "from scipy.optimize import newton\n",
        "%matplotlib inline\n",
        "\n",
        "%precision 3\n",
        "\n",
        "matrix = np.array([[1,-1,-1],[-1,1,-1],[-1,-1,1]])\n",
        "#行列式の計算\n",
        "print('行列式')\n",
        "print(linalg.det(matrix))\n",
        "#逆行列\n",
        "print('逆行列')\n",
        "print(linalg.inv(matrix))\n",
        "#検算\n",
        "print(matrix.dot(linalg.inv(matrix)))\n",
        "\n",
        "eig_value, eig_vector = linalg.eig(matrix)\n",
        "print('固有値')\n",
        "print(eig_value)\n",
        "print('固有ベクトル')\n",
        "print(eig_vector)\n",
        "\n",
        "def my_function(x):\n",
        "  return(x**2+2*x+1)\n",
        "print(newton(my_function,0))\n",
        "print(minimize_scalar(my_function,method='Brent'))"
      ]
    }
  ]
}