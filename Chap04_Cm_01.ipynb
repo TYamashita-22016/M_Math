{
  "nbformat": 4,
  "nbformat_minor": 0,
  "metadata": {
    "colab": {
      "name": "Chap04-Cm-01.ipynb",
      "provenance": [],
      "authorship_tag": "ABX9TyN/O//QtPFBHD1p7OYQfRD9",
      "include_colab_link": true
    },
    "kernelspec": {
      "name": "python3",
      "display_name": "Python 3"
    },
    "language_info": {
      "name": "python"
    }
  },
  "cells": [
    {
      "cell_type": "markdown",
      "metadata": {
        "id": "view-in-github",
        "colab_type": "text"
      },
      "source": [
        "<a href=\"https://colab.research.google.com/github/TYamashita-22016/M_Math/blob/main/Chap04_Cm_01.ipynb\" target=\"_parent\"><img src=\"https://colab.research.google.com/assets/colab-badge.svg\" alt=\"Open In Colab\"/></a>"
      ]
    },
    {
      "cell_type": "code",
      "execution_count": 1,
      "metadata": {
        "colab": {
          "base_uri": "https://localhost:8080/"
        },
        "id": "iCmFIZfevpIs",
        "outputId": "8e929e7d-3b8d-4485-c82e-75fc284aac44"
      },
      "outputs": [
        {
          "output_type": "stream",
          "name": "stdout",
          "text": [
            "数学の欠席平均： 5.319371727748691\n",
            "ポルトガル語の欠席平均 3.6727748691099475\n",
            "p値 =  2.3441656888384195e-06\n"
          ]
        }
      ],
      "source": [
        "from numpy.ma.core import cumsum\n",
        "import numpy as np\n",
        "import numpy.random as random\n",
        "import scipy as sp\n",
        "import pandas as pd\n",
        "from pandas import Series, DataFrame\n",
        "\n",
        "import matplotlib.pyplot as plt\n",
        "import matplotlib as mpl\n",
        "import seaborn as sns\n",
        "sns.set()\n",
        "%matplotlib inline\n",
        "%precision 3\n",
        "\n",
        "import requests, zipfile\n",
        "from io import StringIO\n",
        "import io\n",
        "\n",
        "from sklearn import linear_model\n",
        "\n",
        "url = 'https://archive.ics.uci.edu/ml/machine-learning-databases/00356/student.zip'\n",
        "r = requests.get(url, stream = True)\n",
        "z = zipfile.ZipFile(io.BytesIO(r.content))\n",
        "z.extractall()\n",
        "student_data_math=pd.read_csv('student-mat.csv', sep=';')\n",
        "student_data_por=pd.read_csv('student-por.csv', sep=';')\n",
        "\n",
        "student_data_merge=pd.merge(student_data_math, student_data_por, \n",
        "                            on=['school', 'sex', 'age', 'address', 'famsize', 'Pstatus', 'Medu', 'Fedu', 'Mjob', 'Fjob', 'reason', 'nursery', 'internet'],\n",
        "                            suffixes=('_math','_por'))\n",
        "\n",
        "print('数学の欠席平均：', student_data_merge.absences_math.mean())\n",
        "print('ポルトガル語の欠席平均', student_data_merge.absences_por.mean())\n",
        "\n",
        "from scipy import stats\n",
        "t, p = stats.ttest_rel(student_data_merge.absences_math, student_data_merge.absences_por)\n",
        "print('p値 = ', p)"
      ]
    },
    {
      "cell_type": "code",
      "source": [
        "print('数学の勉強時間平均：', student_data_merge.studytime_math.mean())\n",
        "print('ポルトガル語の勉強時間平均', student_data_merge.studytime_por.mean())\n",
        "\n",
        "from scipy import stats\n",
        "t, p = stats.ttest_rel(student_data_merge.studytime_math, student_data_merge.studytime_por)\n",
        "print('p値 = ', p)"
      ],
      "metadata": {
        "colab": {
          "base_uri": "https://localhost:8080/"
        },
        "id": "i9uLumNrwX54",
        "outputId": "8ecdd38b-fc12-4ddf-b98d-9a89993ee6c6"
      },
      "execution_count": 3,
      "outputs": [
        {
          "output_type": "stream",
          "name": "stdout",
          "text": [
            "数学の勉強時間平均： 2.0340314136125652\n",
            "ポルトガル語の勉強時間平均 2.0392670157068062\n",
            "p値 =  0.5643842756976525\n"
          ]
        }
      ]
    },
    {
      "cell_type": "markdown",
      "source": [
        "欠席数はp値が小さいので差がある\n",
        "勉強時間は有意差が5%なので差があるとは言えない\n",
        "\n"
      ],
      "metadata": {
        "id": "wjjAo01-xNAT"
      }
    }
  ]
}