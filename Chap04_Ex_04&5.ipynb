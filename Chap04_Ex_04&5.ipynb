{
  "nbformat": 4,
  "nbformat_minor": 0,
  "metadata": {
    "colab": {
      "name": "Chap04-Ex-04&5.ipynb",
      "provenance": [],
      "authorship_tag": "ABX9TyOOEls6V7RG01EYsdB4EmOB",
      "include_colab_link": true
    },
    "kernelspec": {
      "name": "python3",
      "display_name": "Python 3"
    },
    "language_info": {
      "name": "python"
    }
  },
  "cells": [
    {
      "cell_type": "markdown",
      "metadata": {
        "id": "view-in-github",
        "colab_type": "text"
      },
      "source": [
        "<a href=\"https://colab.research.google.com/github/TYamashita-22016/M_Math/blob/main/Chap04_Ex_04%265.ipynb\" target=\"_parent\"><img src=\"https://colab.research.google.com/assets/colab-badge.svg\" alt=\"Open In Colab\"/></a>"
      ]
    },
    {
      "cell_type": "code",
      "execution_count": null,
      "metadata": {
        "colab": {
          "base_uri": "https://localhost:8080/",
          "height": 355
        },
        "id": "PTiAc6qqHvUd",
        "outputId": "cd268f7e-65b5-41f7-e7ac-66a761ba8ba9"
      },
      "outputs": [
        {
          "output_type": "execute_result",
          "data": {
            "text/plain": [
              "(array([0.006, 0.062, 0.53 , 1.948, 3.696, 3.494, 1.626, 0.436, 0.045,\n",
              "        0.007]),\n",
              " array([-0.414, -0.33 , -0.246, -0.161, -0.077,  0.008,  0.092,  0.176,\n",
              "         0.261,  0.345,  0.43 ]),\n",
              " <a list of 10 Patch objects>)"
            ]
          },
          "metadata": {},
          "execution_count": 25
        },
        {
          "output_type": "display_data",
          "data": {
            "text/plain": [
              "<Figure size 432x288 with 1 Axes>"
            ],
            "image/png": "[encoded data removed]"
          },
          "metadata": {
            "needs_background": "light"
          }
        }
      ],
      "source": [
        "import numpy as np\n",
        "import scipy as sp\n",
        "import pandas as pd\n",
        "from pandas import Series, DataFrame\n",
        "\n",
        "import matplotlib.pyplot as plt\n",
        "import matplotlib as mpl\n",
        "import seaborn as sns\n",
        "%matplotlib inline\n",
        "%precision 3\n",
        "\n",
        "mean_x=[]\n",
        "for i in range(0,10000):\n",
        "  x=np.random.normal(0,1,100).mean()\n",
        "  mean_x.append(x)\n",
        "\n",
        "#sample_x=[np.random.normal(0,1,100).mean() for _ in range(10000)]\n",
        "#plt.hist(sample_x,density=True)\n",
        "\n",
        "plt.hist(mean_x,density=True)"
      ]
    },
    {
      "cell_type": "code",
      "source": [
        "mean_logx=[]\n",
        "for i in range(0,10000):\n",
        "  x=np.random.lognormal(0,1,100).mean()\n",
        "  mean_logx.append(x)\n",
        "\n",
        "plt.hist(mean_logx,density=True)"
      ],
      "metadata": {
        "colab": {
          "base_uri": "https://localhost:8080/",
          "height": 355
        },
        "id": "WGlqHb6hVzcE",
        "outputId": "9b617de4-89a8-414a-da45-f1cd2d36ae98"
      },
      "execution_count": null,
      "outputs": [
        {
          "output_type": "execute_result",
          "data": {
            "text/plain": [
              "(array([0.056, 0.793, 1.838, 1.302, 0.485, 0.116, 0.019, 0.005, 0.002,\n",
              "        0.002]),\n",
              " array([1.024, 1.241, 1.457, 1.674, 1.891, 2.107, 2.324, 2.54 , 2.757,\n",
              "        2.973, 3.19 ]),\n",
              " <a list of 10 Patch objects>)"
            ]
          },
          "metadata": {},
          "execution_count": 26
        },
        {
          "output_type": "display_data",
          "data": {
            "text/plain": [
              "<Figure size 432x288 with 1 Axes>"
            ],
            "image/png": "[encoded data removed]"
          },
          "metadata": {
            "needs_background": "light"
          }
        }
      ]
    }
  ]
}