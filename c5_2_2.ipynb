{
  "nbformat": 4,
  "nbformat_minor": 0,
  "metadata": {
    "colab": {
      "name": "c5-2-2.ipynb",
      "provenance": [],
      "authorship_tag": "ABX9TyOWl9jNaF6BuWwmiVuzb39z",
      "include_colab_link": true
    },
    "kernelspec": {
      "name": "python3",
      "display_name": "Python 3"
    },
    "language_info": {
      "name": "python"
    }
  },
  "cells": [
    {
      "cell_type": "markdown",
      "metadata": {
        "id": "view-in-github",
        "colab_type": "text"
      },
      "source": [
        "<a href=\"https://colab.research.google.com/github/TYamashita-22016/M_Math/blob/main/c5_2_2.ipynb\" target=\"_parent\"><img src=\"https://colab.research.google.com/assets/colab-badge.svg\" alt=\"Open In Colab\"/></a>"
      ]
    },
    {
      "cell_type": "code",
      "execution_count": 3,
      "metadata": {
        "id": "Qe_MwNvtTFXg"
      },
      "outputs": [],
      "source": [
        "from numpy.ma.core import cumsum\n",
        "import numpy as np\n",
        "import numpy.random as random\n",
        "import scipy as sp\n",
        "import pandas as pd\n",
        "from pandas import Series, DataFrame\n",
        "\n",
        "import matplotlib.pyplot as plt\n",
        "import matplotlib as mpl\n",
        "import seaborn as sns\n",
        "sns.set()\n",
        "%matplotlib inline\n",
        "%precision 3\n",
        "\n",
        "import requests, zipfile\n",
        "from io import StringIO\n",
        "import io\n",
        "\n",
        "from sklearn import linear_model"
      ]
    },
    {
      "cell_type": "code",
      "source": [
        "cond_data=np.array([True, True, False, False, True])\n",
        "\n",
        "print(cond_data)\n",
        "\n",
        "print(np.unique(cond_data))"
      ],
      "metadata": {
        "colab": {
          "base_uri": "https://localhost:8080/"
        },
        "id": "_ZG2_U8QThju",
        "outputId": "38308a2d-c64c-4af5-e852-bc3a240392f9"
      },
      "execution_count": 4,
      "outputs": [
        {
          "output_type": "stream",
          "name": "stdout",
          "text": [
            "[ True  True False False  True]\n",
            "[False  True]\n"
          ]
        }
      ]
    },
    {
      "cell_type": "code",
      "source": [
        "sample_data=np.arange(10)\n",
        "print('元のデータ：',sample_data)\n",
        "print('すべての要素の平方根：',np.sqrt(sample_data))\n",
        "print('すべての要素のネイぴあ指数関数：',np.exp(sample_data))"
      ],
      "metadata": {
        "colab": {
          "base_uri": "https://localhost:8080/"
        },
        "id": "ZvktFNHBTljw",
        "outputId": "ce923a80-cf02-4ccf-8165-39f6821ea5ce"
      },
      "execution_count": 5,
      "outputs": [
        {
          "output_type": "stream",
          "name": "stdout",
          "text": [
            "元のデータ： [0 1 2 3 4 5 6 7 8 9]\n",
            "すべての要素の平方根： [0.    1.    1.414 1.732 2.    2.236 2.449 2.646 2.828 3.   ]\n",
            "すべての要素のネイぴあ指数関数： [1.000e+00 2.718e+00 7.389e+00 2.009e+01 5.460e+01 1.484e+02 4.034e+02\n",
            " 1.097e+03 2.981e+03 8.103e+03]\n"
          ]
        }
      ]
    },
    {
      "cell_type": "code",
      "source": [
        "sample_multi_array_data1=np.arange(9).reshape(3,3)\n",
        "print(sample_multi_array_data1)\n",
        "\n",
        "print('最小値：',sample_multi_array_data1.min())\n",
        "print('最大値：',sample_multi_array_data1.max())\n",
        "print('平均値：',sample_multi_array_data1.mean())\n",
        "print('合計値：',sample_multi_array_data1.sum())\n",
        "\n",
        "print('行の合計：',sample_multi_array_data1.sum(axis=1))\n",
        "print('列の合計：',sample_multi_array_data1.sum(axis=0))"
      ],
      "metadata": {
        "colab": {
          "base_uri": "https://localhost:8080/"
        },
        "id": "TREil1g3UNOr",
        "outputId": "9d884b06-abef-4397-dd18-f618fbd4865f"
      },
      "execution_count": 7,
      "outputs": [
        {
          "output_type": "stream",
          "name": "stdout",
          "text": [
            "[[0 1 2]\n",
            " [3 4 5]\n",
            " [6 7 8]]\n",
            "最小値： 0\n",
            "最大値： 8\n",
            "平均： 4.0\n",
            "合計： 36\n",
            "行の合計： [ 3 12 21]\n",
            "列の合計： [ 9 12 15]\n"
          ]
        }
      ]
    },
    {
      "cell_type": "code",
      "source": [
        "cond_data=np.array([True, True, False, False, True])\n",
        "print('少なくともTrueが1つあるかどうか：', cond_data.any())\n",
        "print('すべてTrueかどうか：', cond_data.all())"
      ],
      "metadata": {
        "colab": {
          "base_uri": "https://localhost:8080/"
        },
        "id": "0mqYl04uVLVq",
        "outputId": "adf86c89-907a-4ba9-ce5f-66a9a6e75357"
      },
      "execution_count": 8,
      "outputs": [
        {
          "output_type": "stream",
          "name": "stdout",
          "text": [
            "少なくともTrueが1つあるかどうか： True\n",
            "すべてTrueかどうか： False\n"
          ]
        }
      ]
    },
    {
      "cell_type": "code",
      "source": [
        "sample_multi_array_data1=np.arange(9).reshape(3,3)\n",
        "\n",
        "print('5より大きい数字がいくつあるか：', (sample_multi_array_data1>5).sum())"
      ],
      "metadata": {
        "colab": {
          "base_uri": "https://localhost:8080/"
        },
        "id": "iPcaFGTgVqkn",
        "outputId": "1e8c3f2c-a450-46b2-a6f2-588b6a09eac1"
      },
      "execution_count": 11,
      "outputs": [
        {
          "output_type": "stream",
          "name": "stdout",
          "text": [
            "5より大きい数字がいくつあるか： 3\n"
          ]
        }
      ]
    },
    {
      "cell_type": "code",
      "source": [
        "sample_multi_array_data1=np.arange(9).reshape(3,3)\n",
        "\n",
        "print('対角成分：',np.diag(sample_multi_array_data1))\n",
        "print('対角成分の和：',np.trace(sample_multi_array_data1))"
      ],
      "metadata": {
        "colab": {
          "base_uri": "https://localhost:8080/"
        },
        "id": "0KISteJmWeWc",
        "outputId": "6dc0f715-7e0b-414c-ccff-64e8d9e53363"
      },
      "execution_count": 12,
      "outputs": [
        {
          "output_type": "stream",
          "name": "stdout",
          "text": [
            "対角成分： [0 4 8]\n",
            "対角成分の和： 12\n"
          ]
        }
      ]
    }
  ]
}