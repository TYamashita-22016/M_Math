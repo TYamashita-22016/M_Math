{
  "nbformat": 4,
  "nbformat_minor": 0,
  "metadata": {
    "colab": {
      "name": "Untitled1.ipynb",
      "provenance": [],
      "authorship_tag": "ABX9TyMRmiySwmtM6wG48aAG8pyp",
      "include_colab_link": true
    },
    "kernelspec": {
      "name": "python3",
      "display_name": "Python 3"
    },
    "language_info": {
      "name": "python"
    }
  },
  "cells": [
    {
      "cell_type": "markdown",
      "metadata": {
        "id": "view-in-github",
        "colab_type": "text"
      },
      "source": [
        "<a href=\"https://colab.research.google.com/github/TYamashita-22016/Math/blob/main/c2-2.ipynb\" target=\"_parent\"><img src=\"https://colab.research.google.com/assets/colab-badge.svg\" alt=\"Open In Colab\"/></a>"
      ]
    },
    {
      "cell_type": "code",
      "execution_count": 32,
      "metadata": {
        "id": "Ls5cwDV4Eh9h",
        "outputId": "d6090d92-2f9d-4bc0-a248-ace624561177",
        "colab": {
          "base_uri": "https://localhost:8080/"
        }
      },
      "outputs": [
        {
          "output_type": "stream",
          "name": "stdout",
          "text": [
            "[ 9  2  3  4 10  6  7  8  1  5]\n",
            "データの型: int64\n",
            "次元数: 1\n",
            "要素数: 10\n",
            "掛け算 [10 18 24 28 30 30 28 24 18 10]\n",
            "累乗 [  1   4   9  16  25  36  49  64  81 100]\n",
            "割り算 [ 0.1    0.222  0.375  0.571  0.833  1.2    1.75   2.667  4.5   10.   ]\n",
            "そのまま： [ 9  2  3  4 10  6  7  8  1  5]\n",
            "ソート後： [ 1  2  3  4  5  6  7  8  9 10]\n",
            "降　順　： [10  9  8  7  6  5  4  3  2  1]\n",
            "Min: 1\n",
            "Max: 10\n",
            "Sum: 55\n",
            "Cum: [10 19 27 34 40 45 49 52 54 55]\n",
            "Ratio: [0.182 0.345 0.491 0.618 0.727 0.818 0.891 0.945 0.982 1.   ]\n",
            "乱数10個の配列 [-1.629  0.496 -0.763  0.193  0.016  0.462 -0.264 -1.183 -0.633 -0.533]\n",
            "[ 6  8 10  2 10  8  2 10  5  7]\n",
            "[ 5  3  2  8  4  6  1  9  7 10]\n",
            "[[0 1 2]\n",
            " [3 4 5]\n",
            " [6 7 8]]\n",
            "[0 1 2]\n",
            "[0 3 6]\n",
            "[[ 42  45  48]\n",
            " [150 162 174]\n",
            " [258 279 300]]\n",
            "[[  0  10  22]\n",
            " [ 36  52  70]\n",
            " [ 90 112 136]]\n",
            "[[0 0 0]\n",
            " [0 0 0]]\n",
            "[[1. 1. 1.]\n",
            " [1. 1. 1.]]\n"
          ]
        }
      ],
      "source": [
        "import numpy as np\n",
        "import numpy.random as random\n",
        "import scipy as sp\n",
        "import pandas as pd\n",
        "from pandas import Series, DataFrame\n",
        "\n",
        "import matplotlib.pyplot as ply\n",
        "import matplotlib as mpl\n",
        "import seaborn as sns\n",
        "%matplotlib inline\n",
        "\n",
        "%precision 3\n",
        "\n",
        "data = np.array([9,2,3,4,10,6,7,8,1,5])\n",
        "print(data)\n",
        "\n",
        "print('データの型:', data.dtype)\n",
        "print('次元数:', data.ndim)\n",
        "print('要素数:', data.size)\n",
        "\n",
        "print('掛け算', np.array([1,2,3,4,5,6,7,8,9,10]) * np.array([10,9,8,7,6,5,4,3,2,1,]))\n",
        "print('累乗', np.array([1,2,3,4,5,6,7,8,9,10]) ** 2)\n",
        "print('割り算', np.array([1,2,3,4,5,6,7,8,9,10]) / np.array([10,9,8,7,6,5,4,3,2,1,]))\n",
        "\n",
        "print('そのまま：', data)\n",
        "data.sort()\n",
        "print('ソート後：', data)\n",
        "data[::-1].sort()\n",
        "print('降　順　：',data)\n",
        "print('Min:', data.min())\n",
        "print('Max:', data.max())\n",
        "print('Sum:', data.sum())\n",
        "print('Cum:', data.cumsum())\n",
        "print('Ratio:', data.cumsum()/data.sum())\n",
        "\n",
        "random.seed(129)\n",
        "rnd_data=random.randn(10)\n",
        "print('乱数10個の配列', rnd_data)\n",
        "\n",
        "#ランダム抽出\n",
        "print(random.choice(data,10))\n",
        "print(random.choice(data,10,replace=False))\n",
        "\n",
        "#行列\n",
        "array1=np.arange(9).reshape(3,3)\n",
        "print(array1)\n",
        "#行の取り出し\n",
        "print(array1[0,:])\n",
        "#列の取り出し\n",
        "print(array1[:,0])\n",
        "\n",
        "array2=np.arange(9,18).reshape(3,3)\n",
        "#行列の掛け算\n",
        "print(np.dot(array1,array2))\n",
        "#行列要素の掛け算\n",
        "print(array1*array2)\n",
        "\n",
        "print(np.zeros((2,3), dtype=np.int64))\n",
        "print(np.ones((2,3), dtype=np.float64))"
      ]
    }
  ]
}