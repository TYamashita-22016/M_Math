{
  "nbformat": 4,
  "nbformat_minor": 0,
  "metadata": {
    "colab": {
      "name": "Chap04-Ex-01.ipynb",
      "provenance": [],
      "authorship_tag": "ABX9TyNUM5Szf6+dElFAGelNgYCl",
      "include_colab_link": true
    },
    "kernelspec": {
      "name": "python3",
      "display_name": "Python 3"
    },
    "language_info": {
      "name": "python"
    }
  },
  "cells": [
    {
      "cell_type": "markdown",
      "metadata": {
        "id": "view-in-github",
        "colab_type": "text"
      },
      "source": [
        "<a href=\"https://colab.research.google.com/github/TYamashita-22016/M_Math/blob/main/Chap04_Ex_01.ipynb\" target=\"_parent\"><img src=\"https://colab.research.google.com/assets/colab-badge.svg\" alt=\"Open In Colab\"/></a>"
      ]
    },
    {
      "cell_type": "code",
      "execution_count": null,
      "metadata": {
        "colab": {
          "base_uri": "https://localhost:8080/"
        },
        "id": "Ziom3UIqEa0-",
        "outputId": "aa5c93f3-e598-4b5a-bce8-d9dd06f01419"
      },
      "outputs": [
        {
          "output_type": "stream",
          "name": "stdout",
          "text": [
            "表が出る確率： 0.496\n",
            "裏が出る確率： 0.504\n"
          ]
        }
      ],
      "source": [
        "import numpy as np\n",
        "import scipy as sp\n",
        "import pandas as pd\n",
        "from pandas import Series, DataFrame\n",
        "\n",
        "import matplotlib.pyplot as plt\n",
        "import matplotlib as mpl\n",
        "import seaborn as sns\n",
        "%matplotlib inline\n",
        "%precision 3\n",
        "\n",
        "np.random.seed(0)\n",
        "\n",
        "coin_data = np.array([0,1])\n",
        "calc_steps=1000\n",
        "\n",
        "coin_rolls = np.random.choice(coin_data, calc_steps)\n",
        "print('表が出る確率：', len(coin_rolls[coin_rolls==0]) / calc_steps)\n",
        "print('裏が出る確率：', len(coin_rolls[coin_rolls==1]) / calc_steps)"
      ]
    }
  ]
}