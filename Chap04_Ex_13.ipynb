{
  "nbformat": 4,
  "nbformat_minor": 0,
  "metadata": {
    "colab": {
      "name": "Chap04-Ex-13.ipynb",
      "provenance": [],
      "authorship_tag": "ABX9TyNXeTZmShoL3jfmf+pnaX/c",
      "include_colab_link": true
    },
    "kernelspec": {
      "name": "python3",
      "display_name": "Python 3"
    },
    "language_info": {
      "name": "python"
    }
  },
  "cells": [
    {
      "cell_type": "markdown",
      "metadata": {
        "id": "view-in-github",
        "colab_type": "text"
      },
      "source": [
        "<a href=\"https://colab.research.google.com/github/TYamashita-22016/M_Math/blob/main/Chap04_Ex_13.ipynb\" target=\"_parent\"><img src=\"https://colab.research.google.com/assets/colab-badge.svg\" alt=\"Open In Colab\"/></a>"
      ]
    },
    {
      "cell_type": "code",
      "execution_count": 4,
      "metadata": {
        "colab": {
          "base_uri": "https://localhost:8080/"
        },
        "id": "JLtwOMJkoLdl",
        "outputId": "105ba5a3-2f8c-4b0c-9219-cc719db97f01"
      },
      "outputs": [
        {
          "output_type": "stream",
          "name": "stdout",
          "text": [
            "G2数学の成績平均： 10.712041884816754\n",
            "G2ポルトガル語の成績平均 12.238219895287958\n",
            "p値 =  4.0622824801348043e-19\n"
          ]
        }
      ],
      "source": [
        "from numpy.ma.core import cumsum\n",
        "import numpy as np\n",
        "import numpy.random as random\n",
        "import scipy as sp\n",
        "import pandas as pd\n",
        "from pandas import Series, DataFrame\n",
        "\n",
        "import matplotlib.pyplot as plt\n",
        "import matplotlib as mpl\n",
        "import seaborn as sns\n",
        "sns.set()\n",
        "%matplotlib inline\n",
        "%precision 3\n",
        "\n",
        "import requests, zipfile\n",
        "from io import StringIO\n",
        "import io\n",
        "\n",
        "from sklearn import linear_model\n",
        "\n",
        "url = 'https://archive.ics.uci.edu/ml/machine-learning-databases/00356/student.zip'\n",
        "r = requests.get(url, stream = True)\n",
        "z = zipfile.ZipFile(io.BytesIO(r.content))\n",
        "z.extractall()\n",
        "student_data_math=pd.read_csv('student-mat.csv', sep=';')\n",
        "student_data_por=pd.read_csv('student-por.csv', sep=';')\n",
        "\n",
        "student_data_merge=pd.merge(student_data_math, student_data_por, \n",
        "                            on=['school', 'sex', 'age', 'address', 'famsize', 'Pstatus', 'Medu', 'Fedu', 'Mjob', 'Fjob', 'reason', 'nursery', 'internet'],\n",
        "                            suffixes=('_math','_por'))\n",
        "\n",
        "print('G2数学の成績平均：', student_data_merge.G2_math.mean())\n",
        "print('G2ポルトガル語の成績平均', student_data_merge.G2_por.mean())\n",
        "\n",
        "from scipy import stats\n",
        "t, p = stats.ttest_rel(student_data_merge.G2_math, student_data_merge.G2_por)\n",
        "print('p値 = ', p)"
      ]
    },
    {
      "cell_type": "code",
      "source": [
        "print('G3数学の成績平均：', student_data_merge.G3_math.mean())\n",
        "print('G3ポルトガル語の成績平均', student_data_merge.G3_por.mean())\n",
        "\n",
        "from scipy import stats\n",
        "t, p = stats.ttest_rel(student_data_merge.G3_math, student_data_merge.G3_por)\n",
        "print('p値 = ', p)"
      ],
      "metadata": {
        "colab": {
          "base_uri": "https://localhost:8080/"
        },
        "id": "VvYoEwvvsvcl",
        "outputId": "653cb5e9-86f0-4e8c-bc87-cb1c518a26de"
      },
      "execution_count": 5,
      "outputs": [
        {
          "output_type": "stream",
          "name": "stdout",
          "text": [
            "G3数学の成績平均： 10.387434554973822\n",
            "G3ポルトガル語の成績平均 12.515706806282722\n",
            "p値 =  5.561492113688385e-21\n"
          ]
        }
      ]
    },
    {
      "cell_type": "markdown",
      "source": [
        "p値が非常に小さい（１％未満）なので両者ともに差があると言える"
      ],
      "metadata": {
        "id": "ozVXq0pfvVNp"
      }
    }
  ]
}