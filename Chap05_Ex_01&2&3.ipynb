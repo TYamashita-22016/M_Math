{
  "nbformat": 4,
  "nbformat_minor": 0,
  "metadata": {
    "colab": {
      "name": "Chap05-Ex-01&2&3.ipynb",
      "provenance": [],
      "authorship_tag": "ABX9TyNkUicHVzR/iX/x5uAvADtf",
      "include_colab_link": true
    },
    "kernelspec": {
      "name": "python3",
      "display_name": "Python 3"
    },
    "language_info": {
      "name": "python"
    }
  },
  "cells": [
    {
      "cell_type": "markdown",
      "metadata": {
        "id": "view-in-github",
        "colab_type": "text"
      },
      "source": [
        "<a href=\"https://colab.research.google.com/github/TYamashita-22016/M_Math/blob/main/Chap05_Ex_01%262%263.ipynb\" target=\"_parent\"><img src=\"https://colab.research.google.com/assets/colab-badge.svg\" alt=\"Open In Colab\"/></a>"
      ]
    },
    {
      "cell_type": "code",
      "execution_count": 1,
      "metadata": {
        "id": "zE2SA1umQwn6"
      },
      "outputs": [],
      "source": [
        "from numpy.ma.core import cumsum\n",
        "import numpy as np\n",
        "import numpy.random as random\n",
        "import scipy as sp\n",
        "import pandas as pd\n",
        "from pandas import Series, DataFrame\n",
        "\n",
        "import matplotlib.pyplot as plt\n",
        "import matplotlib as mpl\n",
        "import seaborn as sns\n",
        "sns.set()\n",
        "%matplotlib inline\n",
        "%precision 3\n",
        "\n",
        "import requests, zipfile\n",
        "from io import StringIO\n",
        "import io\n",
        "\n",
        "from sklearn import linear_model"
      ]
    },
    {
      "cell_type": "code",
      "source": [
        "sample_names=np.array(['a', 'b', 'c', 'd', 'a'])\n",
        "random.seed(0)\n",
        "data=random.randn(5,5)\n",
        "\n",
        "#print(sample_names)\n",
        "#print(data)\n",
        "\n",
        "data[sample_names=='b']"
      ],
      "metadata": {
        "colab": {
          "base_uri": "https://localhost:8080/"
        },
        "id": "G_5DbtReRCdG",
        "outputId": "f610b47e-de3b-4682-ca54-e1a5bc9a394e"
      },
      "execution_count": 3,
      "outputs": [
        {
          "output_type": "execute_result",
          "data": {
            "text/plain": [
              "array([[-0.977,  0.95 , -0.151, -0.103,  0.411]])"
            ]
          },
          "metadata": {},
          "execution_count": 3
        }
      ]
    },
    {
      "cell_type": "code",
      "source": [
        "data[sample_names!='c']"
      ],
      "metadata": {
        "colab": {
          "base_uri": "https://localhost:8080/"
        },
        "id": "85udwhehRmeK",
        "outputId": "a8ee3e7f-92b9-4924-fd46-badbb04ad0ed"
      },
      "execution_count": 5,
      "outputs": [
        {
          "output_type": "execute_result",
          "data": {
            "text/plain": [
              "array([[ 1.764,  0.4  ,  0.979,  2.241,  1.868],\n",
              "       [-0.977,  0.95 , -0.151, -0.103,  0.411],\n",
              "       [ 0.334,  1.494, -0.205,  0.313, -0.854],\n",
              "       [-2.553,  0.654,  0.864, -0.742,  2.27 ]])"
            ]
          },
          "metadata": {},
          "execution_count": 5
        }
      ]
    },
    {
      "cell_type": "code",
      "source": [
        "cond_data=np.array([False, False, True, True, False])\n",
        "x_array=np.array([1,2,3,4,5])\n",
        "y_array=np.array([6,7,8,9,10])\n",
        "\n",
        "print(np.where(cond_data,x_array, y_array))"
      ],
      "metadata": {
        "colab": {
          "base_uri": "https://localhost:8080/"
        },
        "id": "CfNbOXv5SEz4",
        "outputId": "a4b6c7ca-948f-4a5b-a3d9-dfa5c21d074a"
      },
      "execution_count": 6,
      "outputs": [
        {
          "output_type": "stream",
          "name": "stdout",
          "text": [
            "[ 6  7  3  4 10]\n"
          ]
        }
      ]
    }
  ]
}