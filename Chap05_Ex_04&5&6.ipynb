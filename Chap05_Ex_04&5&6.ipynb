{
  "nbformat": 4,
  "nbformat_minor": 0,
  "metadata": {
    "colab": {
      "name": "Chap05-Ex-04&5&6.ipynb",
      "provenance": [],
      "authorship_tag": "ABX9TyOAEWrXxGOe/RP3rAAOnw2b",
      "include_colab_link": true
    },
    "kernelspec": {
      "name": "python3",
      "display_name": "Python 3"
    },
    "language_info": {
      "name": "python"
    }
  },
  "cells": [
    {
      "cell_type": "markdown",
      "metadata": {
        "id": "view-in-github",
        "colab_type": "text"
      },
      "source": [
        "<a href=\"https://colab.research.google.com/github/TYamashita-22016/M_Math/blob/main/Chap05_Ex_04%265%266.ipynb\" target=\"_parent\"><img src=\"https://colab.research.google.com/assets/colab-badge.svg\" alt=\"Open In Colab\"/></a>"
      ]
    },
    {
      "cell_type": "code",
      "execution_count": 1,
      "metadata": {
        "id": "IIatt3kYW5UV"
      },
      "outputs": [],
      "source": [
        "from numpy.ma.core import cumsum\n",
        "import numpy as np\n",
        "import numpy.random as random\n",
        "import scipy as sp\n",
        "import pandas as pd\n",
        "from pandas import Series, DataFrame\n",
        "\n",
        "import matplotlib.pyplot as plt\n",
        "import matplotlib as mpl\n",
        "import seaborn as sns\n",
        "sns.set()\n",
        "%matplotlib inline\n",
        "%precision 3\n",
        "\n",
        "import requests, zipfile\n",
        "from io import StringIO\n",
        "import io\n",
        "\n",
        "from sklearn import linear_model"
      ]
    },
    {
      "cell_type": "code",
      "source": [
        "sample_multi_array_data2=np.arange(16).reshape(4,4)\n",
        "np.sqrt(sample_multi_array_data2)"
      ],
      "metadata": {
        "colab": {
          "base_uri": "https://localhost:8080/"
        },
        "id": "hMmuLpkmW-iA",
        "outputId": "9485bb4c-d4a2-4ee1-dd1d-f8f40ab3adca"
      },
      "execution_count": 3,
      "outputs": [
        {
          "output_type": "execute_result",
          "data": {
            "text/plain": [
              "array([[0.   , 1.   , 1.414, 1.732],\n",
              "       [2.   , 2.236, 2.449, 2.646],\n",
              "       [2.828, 3.   , 3.162, 3.317],\n",
              "       [3.464, 3.606, 3.742, 3.873]])"
            ]
          },
          "metadata": {},
          "execution_count": 3
        }
      ]
    },
    {
      "cell_type": "code",
      "source": [
        "print('最小値：',sample_multi_array_data2.min())\n",
        "print('最大値：',sample_multi_array_data2.max())\n",
        "print('平均値：',sample_multi_array_data2.mean())\n",
        "print('合計値：',sample_multi_array_data2.sum())"
      ],
      "metadata": {
        "colab": {
          "base_uri": "https://localhost:8080/"
        },
        "id": "9LnnYIJ5Xa_Y",
        "outputId": "13477799-7ac7-484b-848e-c47f8c0a832a"
      },
      "execution_count": 4,
      "outputs": [
        {
          "output_type": "stream",
          "name": "stdout",
          "text": [
            "最小値： 0\n",
            "最大値： 15\n",
            "平均値： 7.5\n",
            "合計値： 120\n"
          ]
        }
      ]
    },
    {
      "cell_type": "code",
      "source": [
        "print('対角成分の和：',np.trace(sample_multi_array_data2))"
      ],
      "metadata": {
        "colab": {
          "base_uri": "https://localhost:8080/"
        },
        "id": "gdI99ipQXkr1",
        "outputId": "df244b1a-2e2c-4795-d2da-ca80e6a21b8d"
      },
      "execution_count": 5,
      "outputs": [
        {
          "output_type": "stream",
          "name": "stdout",
          "text": [
            "対角成分の和： 30\n"
          ]
        }
      ]
    }
  ]
}